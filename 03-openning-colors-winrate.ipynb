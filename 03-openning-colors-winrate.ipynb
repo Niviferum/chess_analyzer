{
 "cells": [
  {
   "cell_type": "code",
   "execution_count": null,
   "id": "21df6162",
   "metadata": {},
   "outputs": [
    {
     "data": {
      "application/vnd.plotly.v1+json": {
       "config": {
        "plotlyServerURL": "https://plot.ly"
       },
       "data": [
        {
         "customdata": {
          "bdata": "SwAhADYAQwAuAF4AHgB/ADMABgI=",
          "dtype": "i2",
          "shape": "10, 1"
         },
         "hovertemplate": "<b>%{x}</b><br>Winrate: %{y:.2%}<br>Parties: %{customdata[0]}",
         "marker": {
          "color": {
           "bdata": "CtejcD0K5z/KJptsssnmP0xoL6G9hOY/0gOVs1v45T9Ob3rTm97kP5MriMkVxOQ/RERERERE5D/yeDwej8fjP8TDw8PDw+M/4bTDvhVO4z8=",
           "dtype": "f8"
          },
          "colorscale": [
           [
            0,
            "#489fde"
           ],
           [
            0.25,
            "#1f68ab"
           ],
           [
            0.5,
            "#154d8c"
           ],
           [
            0.75,
            "#042749"
           ],
           [
            1,
            "#001029"
           ]
          ],
          "line": {
           "color": "black",
           "width": 1.5
          }
         },
         "name": "Trié par Winrate",
         "text": [
          "72.00%",
          "71.21%",
          "70.37%",
          "68.66%",
          "65.22%",
          "64.89%",
          "63.33%",
          "61.81%",
          "61.76%",
          "60.33%"
         ],
         "textposition": "outside",
         "type": "bar",
         "x": [
          "Center Game #2",
          "Neo-Gruenfeld Defense",
          "Goldsmith Defense",
          "King's Gambit Accepted, King's Knight Gambit",
          "Budapest Defense",
          "Elephant Gambit",
          "Slav Defense #3",
          "Reti Opening",
          "Colle System #2",
          "Queen's Gambit Accepted"
         ],
         "y": {
          "bdata": "CtejcD0K5z/KJptsssnmP0xoL6G9hOY/0gOVs1v45T9Ob3rTm97kP5MriMkVxOQ/RERERERE5D/yeDwej8fjP8TDw8PDw+M/4bTDvhVO4z8=",
          "dtype": "f8"
         }
        },
        {
         "hovertemplate": "<b>%{x}</b><br>Parties: %{y}",
         "marker": {
          "color": {
           "bdata": "nxcVDZQIJAgUCNkGxQV7BWMFPQQ=",
           "dtype": "i2"
          },
          "colorscale": [
           [
            0,
            "#cce5ff"
           ],
           [
            0.25,
            "#3399ff"
           ],
           [
            0.5,
            "#0055cc"
           ],
           [
            0.75,
            "#003d99"
           ],
           [
            1,
            "#001f4d"
           ]
          ],
          "line": {
           "color": "black",
           "width": 1.5
          }
         },
         "name": "Trié par Nombre de parties",
         "text": {
          "bdata": "AAAAAACft0AAAAAAACqqQAAAAAAAKKFAAAAAAABIoEAAAAAAACigQAAAAAAAZJtAAAAAAAAUl0AAAAAAAOyVQAAAAAAAjJVAAAAAAAD0kEA=",
          "dtype": "f8"
         },
         "textposition": "outside",
         "type": "bar",
         "x": [
          "Sicilian Defense",
          "French Defense",
          "Scandinavian Defense",
          "Queen's Pawn Game",
          "English Opening",
          "Caro-Kann Defense",
          "King's Pawn Game",
          "Italian Game",
          "Modern Defense",
          "Zukertort Opening"
         ],
         "y": {
          "bdata": "nxcVDZQIJAgUCNkGxQV7BWMFPQQ=",
          "dtype": "i2"
         }
        }
       ],
       "layout": {
        "annotations": [
         {
          "arrowhead": 2,
          "ax": 0,
          "ay": -40,
          "showarrow": true,
          "x": "Center Game #2",
          "y": 0.72
         }
        ],
        "template": {
         "data": {
          "bar": [
           {
            "error_x": {
             "color": "#2a3f5f"
            },
            "error_y": {
             "color": "#2a3f5f"
            },
            "marker": {
             "line": {
              "color": "#E5ECF6",
              "width": 0.5
             },
             "pattern": {
              "fillmode": "overlay",
              "size": 10,
              "solidity": 0.2
             }
            },
            "type": "bar"
           }
          ],
          "barpolar": [
           {
            "marker": {
             "line": {
              "color": "#E5ECF6",
              "width": 0.5
             },
             "pattern": {
              "fillmode": "overlay",
              "size": 10,
              "solidity": 0.2
             }
            },
            "type": "barpolar"
           }
          ],
          "carpet": [
           {
            "aaxis": {
             "endlinecolor": "#2a3f5f",
             "gridcolor": "white",
             "linecolor": "white",
             "minorgridcolor": "white",
             "startlinecolor": "#2a3f5f"
            },
            "baxis": {
             "endlinecolor": "#2a3f5f",
             "gridcolor": "white",
             "linecolor": "white",
             "minorgridcolor": "white",
             "startlinecolor": "#2a3f5f"
            },
            "type": "carpet"
           }
          ],
          "choropleth": [
           {
            "colorbar": {
             "outlinewidth": 0,
             "ticks": ""
            },
            "type": "choropleth"
           }
          ],
          "contour": [
           {
            "colorbar": {
             "outlinewidth": 0,
             "ticks": ""
            },
            "colorscale": [
             [
              0,
              "#0d0887"
             ],
             [
              0.1111111111111111,
              "#46039f"
             ],
             [
              0.2222222222222222,
              "#7201a8"
             ],
             [
              0.3333333333333333,
              "#9c179e"
             ],
             [
              0.4444444444444444,
              "#bd3786"
             ],
             [
              0.5555555555555556,
              "#d8576b"
             ],
             [
              0.6666666666666666,
              "#ed7953"
             ],
             [
              0.7777777777777778,
              "#fb9f3a"
             ],
             [
              0.8888888888888888,
              "#fdca26"
             ],
             [
              1,
              "#f0f921"
             ]
            ],
            "type": "contour"
           }
          ],
          "contourcarpet": [
           {
            "colorbar": {
             "outlinewidth": 0,
             "ticks": ""
            },
            "type": "contourcarpet"
           }
          ],
          "heatmap": [
           {
            "colorbar": {
             "outlinewidth": 0,
             "ticks": ""
            },
            "colorscale": [
             [
              0,
              "#0d0887"
             ],
             [
              0.1111111111111111,
              "#46039f"
             ],
             [
              0.2222222222222222,
              "#7201a8"
             ],
             [
              0.3333333333333333,
              "#9c179e"
             ],
             [
              0.4444444444444444,
              "#bd3786"
             ],
             [
              0.5555555555555556,
              "#d8576b"
             ],
             [
              0.6666666666666666,
              "#ed7953"
             ],
             [
              0.7777777777777778,
              "#fb9f3a"
             ],
             [
              0.8888888888888888,
              "#fdca26"
             ],
             [
              1,
              "#f0f921"
             ]
            ],
            "type": "heatmap"
           }
          ],
          "histogram": [
           {
            "marker": {
             "pattern": {
              "fillmode": "overlay",
              "size": 10,
              "solidity": 0.2
             }
            },
            "type": "histogram"
           }
          ],
          "histogram2d": [
           {
            "colorbar": {
             "outlinewidth": 0,
             "ticks": ""
            },
            "colorscale": [
             [
              0,
              "#0d0887"
             ],
             [
              0.1111111111111111,
              "#46039f"
             ],
             [
              0.2222222222222222,
              "#7201a8"
             ],
             [
              0.3333333333333333,
              "#9c179e"
             ],
             [
              0.4444444444444444,
              "#bd3786"
             ],
             [
              0.5555555555555556,
              "#d8576b"
             ],
             [
              0.6666666666666666,
              "#ed7953"
             ],
             [
              0.7777777777777778,
              "#fb9f3a"
             ],
             [
              0.8888888888888888,
              "#fdca26"
             ],
             [
              1,
              "#f0f921"
             ]
            ],
            "type": "histogram2d"
           }
          ],
          "histogram2dcontour": [
           {
            "colorbar": {
             "outlinewidth": 0,
             "ticks": ""
            },
            "colorscale": [
             [
              0,
              "#0d0887"
             ],
             [
              0.1111111111111111,
              "#46039f"
             ],
             [
              0.2222222222222222,
              "#7201a8"
             ],
             [
              0.3333333333333333,
              "#9c179e"
             ],
             [
              0.4444444444444444,
              "#bd3786"
             ],
             [
              0.5555555555555556,
              "#d8576b"
             ],
             [
              0.6666666666666666,
              "#ed7953"
             ],
             [
              0.7777777777777778,
              "#fb9f3a"
             ],
             [
              0.8888888888888888,
              "#fdca26"
             ],
             [
              1,
              "#f0f921"
             ]
            ],
            "type": "histogram2dcontour"
           }
          ],
          "mesh3d": [
           {
            "colorbar": {
             "outlinewidth": 0,
             "ticks": ""
            },
            "type": "mesh3d"
           }
          ],
          "parcoords": [
           {
            "line": {
             "colorbar": {
              "outlinewidth": 0,
              "ticks": ""
             }
            },
            "type": "parcoords"
           }
          ],
          "pie": [
           {
            "automargin": true,
            "type": "pie"
           }
          ],
          "scatter": [
           {
            "fillpattern": {
             "fillmode": "overlay",
             "size": 10,
             "solidity": 0.2
            },
            "type": "scatter"
           }
          ],
          "scatter3d": [
           {
            "line": {
             "colorbar": {
              "outlinewidth": 0,
              "ticks": ""
             }
            },
            "marker": {
             "colorbar": {
              "outlinewidth": 0,
              "ticks": ""
             }
            },
            "type": "scatter3d"
           }
          ],
          "scattercarpet": [
           {
            "marker": {
             "colorbar": {
              "outlinewidth": 0,
              "ticks": ""
             }
            },
            "type": "scattercarpet"
           }
          ],
          "scattergeo": [
           {
            "marker": {
             "colorbar": {
              "outlinewidth": 0,
              "ticks": ""
             }
            },
            "type": "scattergeo"
           }
          ],
          "scattergl": [
           {
            "marker": {
             "colorbar": {
              "outlinewidth": 0,
              "ticks": ""
             }
            },
            "type": "scattergl"
           }
          ],
          "scattermap": [
           {
            "marker": {
             "colorbar": {
              "outlinewidth": 0,
              "ticks": ""
             }
            },
            "type": "scattermap"
           }
          ],
          "scattermapbox": [
           {
            "marker": {
             "colorbar": {
              "outlinewidth": 0,
              "ticks": ""
             }
            },
            "type": "scattermapbox"
           }
          ],
          "scatterpolar": [
           {
            "marker": {
             "colorbar": {
              "outlinewidth": 0,
              "ticks": ""
             }
            },
            "type": "scatterpolar"
           }
          ],
          "scatterpolargl": [
           {
            "marker": {
             "colorbar": {
              "outlinewidth": 0,
              "ticks": ""
             }
            },
            "type": "scatterpolargl"
           }
          ],
          "scatterternary": [
           {
            "marker": {
             "colorbar": {
              "outlinewidth": 0,
              "ticks": ""
             }
            },
            "type": "scatterternary"
           }
          ],
          "surface": [
           {
            "colorbar": {
             "outlinewidth": 0,
             "ticks": ""
            },
            "colorscale": [
             [
              0,
              "#0d0887"
             ],
             [
              0.1111111111111111,
              "#46039f"
             ],
             [
              0.2222222222222222,
              "#7201a8"
             ],
             [
              0.3333333333333333,
              "#9c179e"
             ],
             [
              0.4444444444444444,
              "#bd3786"
             ],
             [
              0.5555555555555556,
              "#d8576b"
             ],
             [
              0.6666666666666666,
              "#ed7953"
             ],
             [
              0.7777777777777778,
              "#fb9f3a"
             ],
             [
              0.8888888888888888,
              "#fdca26"
             ],
             [
              1,
              "#f0f921"
             ]
            ],
            "type": "surface"
           }
          ],
          "table": [
           {
            "cells": {
             "fill": {
              "color": "#EBF0F8"
             },
             "line": {
              "color": "white"
             }
            },
            "header": {
             "fill": {
              "color": "#C8D4E3"
             },
             "line": {
              "color": "white"
             }
            },
            "type": "table"
           }
          ]
         },
         "layout": {
          "annotationdefaults": {
           "arrowcolor": "#2a3f5f",
           "arrowhead": 0,
           "arrowwidth": 1
          },
          "autotypenumbers": "strict",
          "coloraxis": {
           "colorbar": {
            "outlinewidth": 0,
            "ticks": ""
           }
          },
          "colorscale": {
           "diverging": [
            [
             0,
             "#8e0152"
            ],
            [
             0.1,
             "#c51b7d"
            ],
            [
             0.2,
             "#de77ae"
            ],
            [
             0.3,
             "#f1b6da"
            ],
            [
             0.4,
             "#fde0ef"
            ],
            [
             0.5,
             "#f7f7f7"
            ],
            [
             0.6,
             "#e6f5d0"
            ],
            [
             0.7,
             "#b8e186"
            ],
            [
             0.8,
             "#7fbc41"
            ],
            [
             0.9,
             "#4d9221"
            ],
            [
             1,
             "#276419"
            ]
           ],
           "sequential": [
            [
             0,
             "#0d0887"
            ],
            [
             0.1111111111111111,
             "#46039f"
            ],
            [
             0.2222222222222222,
             "#7201a8"
            ],
            [
             0.3333333333333333,
             "#9c179e"
            ],
            [
             0.4444444444444444,
             "#bd3786"
            ],
            [
             0.5555555555555556,
             "#d8576b"
            ],
            [
             0.6666666666666666,
             "#ed7953"
            ],
            [
             0.7777777777777778,
             "#fb9f3a"
            ],
            [
             0.8888888888888888,
             "#fdca26"
            ],
            [
             1,
             "#f0f921"
            ]
           ],
           "sequentialminus": [
            [
             0,
             "#0d0887"
            ],
            [
             0.1111111111111111,
             "#46039f"
            ],
            [
             0.2222222222222222,
             "#7201a8"
            ],
            [
             0.3333333333333333,
             "#9c179e"
            ],
            [
             0.4444444444444444,
             "#bd3786"
            ],
            [
             0.5555555555555556,
             "#d8576b"
            ],
            [
             0.6666666666666666,
             "#ed7953"
            ],
            [
             0.7777777777777778,
             "#fb9f3a"
            ],
            [
             0.8888888888888888,
             "#fdca26"
            ],
            [
             1,
             "#f0f921"
            ]
           ]
          },
          "colorway": [
           "#636efa",
           "#EF553B",
           "#00cc96",
           "#ab63fa",
           "#FFA15A",
           "#19d3f3",
           "#FF6692",
           "#B6E880",
           "#FF97FF",
           "#FECB52"
          ],
          "font": {
           "color": "#2a3f5f"
          },
          "geo": {
           "bgcolor": "white",
           "lakecolor": "white",
           "landcolor": "#E5ECF6",
           "showlakes": true,
           "showland": true,
           "subunitcolor": "white"
          },
          "hoverlabel": {
           "align": "left"
          },
          "hovermode": "closest",
          "mapbox": {
           "style": "light"
          },
          "paper_bgcolor": "white",
          "plot_bgcolor": "#E5ECF6",
          "polar": {
           "angularaxis": {
            "gridcolor": "white",
            "linecolor": "white",
            "ticks": ""
           },
           "bgcolor": "#E5ECF6",
           "radialaxis": {
            "gridcolor": "white",
            "linecolor": "white",
            "ticks": ""
           }
          },
          "scene": {
           "xaxis": {
            "backgroundcolor": "#E5ECF6",
            "gridcolor": "white",
            "gridwidth": 2,
            "linecolor": "white",
            "showbackground": true,
            "ticks": "",
            "zerolinecolor": "white"
           },
           "yaxis": {
            "backgroundcolor": "#E5ECF6",
            "gridcolor": "white",
            "gridwidth": 2,
            "linecolor": "white",
            "showbackground": true,
            "ticks": "",
            "zerolinecolor": "white"
           },
           "zaxis": {
            "backgroundcolor": "#E5ECF6",
            "gridcolor": "white",
            "gridwidth": 2,
            "linecolor": "white",
            "showbackground": true,
            "ticks": "",
            "zerolinecolor": "white"
           }
          },
          "shapedefaults": {
           "line": {
            "color": "#2a3f5f"
           }
          },
          "ternary": {
           "aaxis": {
            "gridcolor": "white",
            "linecolor": "white",
            "ticks": ""
           },
           "baxis": {
            "gridcolor": "white",
            "linecolor": "white",
            "ticks": ""
           },
           "bgcolor": "#E5ECF6",
           "caxis": {
            "gridcolor": "white",
            "linecolor": "white",
            "ticks": ""
           }
          },
          "title": {
           "x": 0.05
          },
          "xaxis": {
           "automargin": true,
           "gridcolor": "white",
           "linecolor": "white",
           "ticks": "",
           "title": {
            "standoff": 15
           },
           "zerolinecolor": "white",
           "zerolinewidth": 2
          },
          "yaxis": {
           "automargin": true,
           "gridcolor": "white",
           "linecolor": "white",
           "ticks": "",
           "title": {
            "standoff": 15
           },
           "zerolinecolor": "white",
           "zerolinewidth": 2
          }
         }
        },
        "updatemenus": [
         {
          "buttons": [
           {
            "args": [
             {
              "visible": [
               true,
               false
              ]
             },
             {
              "title": "♙ <b>Top 10 Ouvertures Blancs</b> (par Winrate)"
             }
            ],
            "label": "Winrate",
            "method": "update"
           },
           {
            "args": [
             {
              "visible": [
               false,
               true
              ]
             },
             {
              "title": "♙ <b>Top 10 Ouvertures Blancs</b> (par Nombre de parties)"
             }
            ],
            "label": "Nombre de parties",
            "method": "update"
           }
          ],
          "direction": "right",
          "type": "buttons",
          "x": 0.57,
          "y": 1.15
         }
        ]
       }
      }
     },
     "metadata": {},
     "output_type": "display_data"
    },
    {
     "data": {
      "application/vnd.plotly.v1+json": {
       "config": {
        "plotlyServerURL": "https://plot.ly"
       },
       "data": [
        {
         "customdata": {
          "bdata": "LQABASAALQAeACAAkgBnADAAkgM=",
          "dtype": "i2",
          "shape": "10, 1"
         },
         "hovertemplate": "<b>%{x}</b><br>Winrate: %{y:.2%}<br>Parties: %{customdata[0]}",
         "marker": {
          "color": {
           "bdata": "tmALtmAL5j/kG+Qb5BvkPwAAAAAAAOQ/5DiO4ziO4z8zMzMzMzPjPwAAAAAAAOM/0qRJkyZN4j98AqnkvCziPwAAAAAAAOI/cHhhwv3j4T8=",
           "dtype": "f8"
          },
          "colorscale": [
           [
            0,
            "#e85151"
           ],
           [
            0.25,
            "#C22E2E"
           ],
           [
            0.5,
            "#a30e0e"
           ],
           [
            0.75,
            "#720000"
           ],
           [
            1,
            "#4d0a0a"
           ]
          ],
          "line": {
           "color": "black",
           "width": 1.5
          }
         },
         "name": "Trié par Winrate",
         "text": [
          "68.89%",
          "62.84%",
          "62.50%",
          "61.11%",
          "60.00%",
          "59.38%",
          "57.19%",
          "56.80%",
          "56.25%",
          "55.91%"
         ],
         "textposition": "outside",
         "type": "bar",
         "x": [
          "East Indian Defense",
          "French Defense #2",
          "Old Benoni Defense #2",
          "Gedult's Opening",
          "Ware Defense",
          "Czech Defense",
          "Three Knights Opening",
          "Ware Opening",
          "Pirc Defense #2",
          "Van't Kruijs Opening"
         ],
         "y": {
          "bdata": "tmALtmAL5j/kG+Qb5BvkPwAAAAAAAOQ/5DiO4ziO4z8zMzMzMzPjPwAAAAAAAOM/0qRJkyZN4j98AqnkvCziPwAAAAAAAOI/cHhhwv3j4T8=",
          "dtype": "f8"
         }
        },
        {
         "hovertemplate": "<b>%{x}</b><br>Parties: %{y}",
         "marker": {
          "color": {
           "bdata": "nxcVDZQIJAgUCNkGxQV7BWMFPQQ=",
           "dtype": "i2"
          },
          "colorscale": [
           [
            0,
            "#ffd6d6"
           ],
           [
            0.25,
            "#ff9999"
           ],
           [
            0.5,
            "#cc3333"
           ],
           [
            0.75,
            "#800000"
           ],
           [
            1,
            "#4d0000"
           ]
          ],
          "line": {
           "color": "black",
           "width": 1.5
          }
         },
         "name": "Trié par Nombre de parties",
         "text": {
          "bdata": "AAAAAACft0AAAAAAACqqQAAAAAAAKKFAAAAAAABIoEAAAAAAACigQAAAAAAAZJtAAAAAAAAUl0AAAAAAAOyVQAAAAAAAjJVAAAAAAAD0kEA=",
          "dtype": "f8"
         },
         "textposition": "outside",
         "type": "bar",
         "x": [
          "Sicilian Defense",
          "French Defense",
          "Scandinavian Defense",
          "Queen's Pawn Game",
          "English Opening",
          "Caro-Kann Defense",
          "King's Pawn Game",
          "Italian Game",
          "Modern Defense",
          "Zukertort Opening"
         ],
         "y": {
          "bdata": "nxcVDZQIJAgUCNkGxQV7BWMFPQQ=",
          "dtype": "i2"
         }
        }
       ],
       "layout": {
        "annotations": [
         {
          "arrowhead": 2,
          "ax": 0,
          "ay": -40,
          "showarrow": true,
          "x": "East Indian Defense",
          "y": 0.6888888888888889
         }
        ],
        "hoverlabel": {
         "bgcolor": "white",
         "font": {
          "family": "Rockwell",
          "size": 14
         }
        },
        "template": {
         "data": {
          "bar": [
           {
            "error_x": {
             "color": "#2a3f5f"
            },
            "error_y": {
             "color": "#2a3f5f"
            },
            "marker": {
             "line": {
              "color": "#E5ECF6",
              "width": 0.5
             },
             "pattern": {
              "fillmode": "overlay",
              "size": 10,
              "solidity": 0.2
             }
            },
            "type": "bar"
           }
          ],
          "barpolar": [
           {
            "marker": {
             "line": {
              "color": "#E5ECF6",
              "width": 0.5
             },
             "pattern": {
              "fillmode": "overlay",
              "size": 10,
              "solidity": 0.2
             }
            },
            "type": "barpolar"
           }
          ],
          "carpet": [
           {
            "aaxis": {
             "endlinecolor": "#2a3f5f",
             "gridcolor": "white",
             "linecolor": "white",
             "minorgridcolor": "white",
             "startlinecolor": "#2a3f5f"
            },
            "baxis": {
             "endlinecolor": "#2a3f5f",
             "gridcolor": "white",
             "linecolor": "white",
             "minorgridcolor": "white",
             "startlinecolor": "#2a3f5f"
            },
            "type": "carpet"
           }
          ],
          "choropleth": [
           {
            "colorbar": {
             "outlinewidth": 0,
             "ticks": ""
            },
            "type": "choropleth"
           }
          ],
          "contour": [
           {
            "colorbar": {
             "outlinewidth": 0,
             "ticks": ""
            },
            "colorscale": [
             [
              0,
              "#0d0887"
             ],
             [
              0.1111111111111111,
              "#46039f"
             ],
             [
              0.2222222222222222,
              "#7201a8"
             ],
             [
              0.3333333333333333,
              "#9c179e"
             ],
             [
              0.4444444444444444,
              "#bd3786"
             ],
             [
              0.5555555555555556,
              "#d8576b"
             ],
             [
              0.6666666666666666,
              "#ed7953"
             ],
             [
              0.7777777777777778,
              "#fb9f3a"
             ],
             [
              0.8888888888888888,
              "#fdca26"
             ],
             [
              1,
              "#f0f921"
             ]
            ],
            "type": "contour"
           }
          ],
          "contourcarpet": [
           {
            "colorbar": {
             "outlinewidth": 0,
             "ticks": ""
            },
            "type": "contourcarpet"
           }
          ],
          "heatmap": [
           {
            "colorbar": {
             "outlinewidth": 0,
             "ticks": ""
            },
            "colorscale": [
             [
              0,
              "#0d0887"
             ],
             [
              0.1111111111111111,
              "#46039f"
             ],
             [
              0.2222222222222222,
              "#7201a8"
             ],
             [
              0.3333333333333333,
              "#9c179e"
             ],
             [
              0.4444444444444444,
              "#bd3786"
             ],
             [
              0.5555555555555556,
              "#d8576b"
             ],
             [
              0.6666666666666666,
              "#ed7953"
             ],
             [
              0.7777777777777778,
              "#fb9f3a"
             ],
             [
              0.8888888888888888,
              "#fdca26"
             ],
             [
              1,
              "#f0f921"
             ]
            ],
            "type": "heatmap"
           }
          ],
          "histogram": [
           {
            "marker": {
             "pattern": {
              "fillmode": "overlay",
              "size": 10,
              "solidity": 0.2
             }
            },
            "type": "histogram"
           }
          ],
          "histogram2d": [
           {
            "colorbar": {
             "outlinewidth": 0,
             "ticks": ""
            },
            "colorscale": [
             [
              0,
              "#0d0887"
             ],
             [
              0.1111111111111111,
              "#46039f"
             ],
             [
              0.2222222222222222,
              "#7201a8"
             ],
             [
              0.3333333333333333,
              "#9c179e"
             ],
             [
              0.4444444444444444,
              "#bd3786"
             ],
             [
              0.5555555555555556,
              "#d8576b"
             ],
             [
              0.6666666666666666,
              "#ed7953"
             ],
             [
              0.7777777777777778,
              "#fb9f3a"
             ],
             [
              0.8888888888888888,
              "#fdca26"
             ],
             [
              1,
              "#f0f921"
             ]
            ],
            "type": "histogram2d"
           }
          ],
          "histogram2dcontour": [
           {
            "colorbar": {
             "outlinewidth": 0,
             "ticks": ""
            },
            "colorscale": [
             [
              0,
              "#0d0887"
             ],
             [
              0.1111111111111111,
              "#46039f"
             ],
             [
              0.2222222222222222,
              "#7201a8"
             ],
             [
              0.3333333333333333,
              "#9c179e"
             ],
             [
              0.4444444444444444,
              "#bd3786"
             ],
             [
              0.5555555555555556,
              "#d8576b"
             ],
             [
              0.6666666666666666,
              "#ed7953"
             ],
             [
              0.7777777777777778,
              "#fb9f3a"
             ],
             [
              0.8888888888888888,
              "#fdca26"
             ],
             [
              1,
              "#f0f921"
             ]
            ],
            "type": "histogram2dcontour"
           }
          ],
          "mesh3d": [
           {
            "colorbar": {
             "outlinewidth": 0,
             "ticks": ""
            },
            "type": "mesh3d"
           }
          ],
          "parcoords": [
           {
            "line": {
             "colorbar": {
              "outlinewidth": 0,
              "ticks": ""
             }
            },
            "type": "parcoords"
           }
          ],
          "pie": [
           {
            "automargin": true,
            "type": "pie"
           }
          ],
          "scatter": [
           {
            "fillpattern": {
             "fillmode": "overlay",
             "size": 10,
             "solidity": 0.2
            },
            "type": "scatter"
           }
          ],
          "scatter3d": [
           {
            "line": {
             "colorbar": {
              "outlinewidth": 0,
              "ticks": ""
             }
            },
            "marker": {
             "colorbar": {
              "outlinewidth": 0,
              "ticks": ""
             }
            },
            "type": "scatter3d"
           }
          ],
          "scattercarpet": [
           {
            "marker": {
             "colorbar": {
              "outlinewidth": 0,
              "ticks": ""
             }
            },
            "type": "scattercarpet"
           }
          ],
          "scattergeo": [
           {
            "marker": {
             "colorbar": {
              "outlinewidth": 0,
              "ticks": ""
             }
            },
            "type": "scattergeo"
           }
          ],
          "scattergl": [
           {
            "marker": {
             "colorbar": {
              "outlinewidth": 0,
              "ticks": ""
             }
            },
            "type": "scattergl"
           }
          ],
          "scattermap": [
           {
            "marker": {
             "colorbar": {
              "outlinewidth": 0,
              "ticks": ""
             }
            },
            "type": "scattermap"
           }
          ],
          "scattermapbox": [
           {
            "marker": {
             "colorbar": {
              "outlinewidth": 0,
              "ticks": ""
             }
            },
            "type": "scattermapbox"
           }
          ],
          "scatterpolar": [
           {
            "marker": {
             "colorbar": {
              "outlinewidth": 0,
              "ticks": ""
             }
            },
            "type": "scatterpolar"
           }
          ],
          "scatterpolargl": [
           {
            "marker": {
             "colorbar": {
              "outlinewidth": 0,
              "ticks": ""
             }
            },
            "type": "scatterpolargl"
           }
          ],
          "scatterternary": [
           {
            "marker": {
             "colorbar": {
              "outlinewidth": 0,
              "ticks": ""
             }
            },
            "type": "scatterternary"
           }
          ],
          "surface": [
           {
            "colorbar": {
             "outlinewidth": 0,
             "ticks": ""
            },
            "colorscale": [
             [
              0,
              "#0d0887"
             ],
             [
              0.1111111111111111,
              "#46039f"
             ],
             [
              0.2222222222222222,
              "#7201a8"
             ],
             [
              0.3333333333333333,
              "#9c179e"
             ],
             [
              0.4444444444444444,
              "#bd3786"
             ],
             [
              0.5555555555555556,
              "#d8576b"
             ],
             [
              0.6666666666666666,
              "#ed7953"
             ],
             [
              0.7777777777777778,
              "#fb9f3a"
             ],
             [
              0.8888888888888888,
              "#fdca26"
             ],
             [
              1,
              "#f0f921"
             ]
            ],
            "type": "surface"
           }
          ],
          "table": [
           {
            "cells": {
             "fill": {
              "color": "#EBF0F8"
             },
             "line": {
              "color": "white"
             }
            },
            "header": {
             "fill": {
              "color": "#C8D4E3"
             },
             "line": {
              "color": "white"
             }
            },
            "type": "table"
           }
          ]
         },
         "layout": {
          "annotationdefaults": {
           "arrowcolor": "#2a3f5f",
           "arrowhead": 0,
           "arrowwidth": 1
          },
          "autotypenumbers": "strict",
          "coloraxis": {
           "colorbar": {
            "outlinewidth": 0,
            "ticks": ""
           }
          },
          "colorscale": {
           "diverging": [
            [
             0,
             "#8e0152"
            ],
            [
             0.1,
             "#c51b7d"
            ],
            [
             0.2,
             "#de77ae"
            ],
            [
             0.3,
             "#f1b6da"
            ],
            [
             0.4,
             "#fde0ef"
            ],
            [
             0.5,
             "#f7f7f7"
            ],
            [
             0.6,
             "#e6f5d0"
            ],
            [
             0.7,
             "#b8e186"
            ],
            [
             0.8,
             "#7fbc41"
            ],
            [
             0.9,
             "#4d9221"
            ],
            [
             1,
             "#276419"
            ]
           ],
           "sequential": [
            [
             0,
             "#0d0887"
            ],
            [
             0.1111111111111111,
             "#46039f"
            ],
            [
             0.2222222222222222,
             "#7201a8"
            ],
            [
             0.3333333333333333,
             "#9c179e"
            ],
            [
             0.4444444444444444,
             "#bd3786"
            ],
            [
             0.5555555555555556,
             "#d8576b"
            ],
            [
             0.6666666666666666,
             "#ed7953"
            ],
            [
             0.7777777777777778,
             "#fb9f3a"
            ],
            [
             0.8888888888888888,
             "#fdca26"
            ],
            [
             1,
             "#f0f921"
            ]
           ],
           "sequentialminus": [
            [
             0,
             "#0d0887"
            ],
            [
             0.1111111111111111,
             "#46039f"
            ],
            [
             0.2222222222222222,
             "#7201a8"
            ],
            [
             0.3333333333333333,
             "#9c179e"
            ],
            [
             0.4444444444444444,
             "#bd3786"
            ],
            [
             0.5555555555555556,
             "#d8576b"
            ],
            [
             0.6666666666666666,
             "#ed7953"
            ],
            [
             0.7777777777777778,
             "#fb9f3a"
            ],
            [
             0.8888888888888888,
             "#fdca26"
            ],
            [
             1,
             "#f0f921"
            ]
           ]
          },
          "colorway": [
           "#636efa",
           "#EF553B",
           "#00cc96",
           "#ab63fa",
           "#FFA15A",
           "#19d3f3",
           "#FF6692",
           "#B6E880",
           "#FF97FF",
           "#FECB52"
          ],
          "font": {
           "color": "#2a3f5f"
          },
          "geo": {
           "bgcolor": "white",
           "lakecolor": "white",
           "landcolor": "#E5ECF6",
           "showlakes": true,
           "showland": true,
           "subunitcolor": "white"
          },
          "hoverlabel": {
           "align": "left"
          },
          "hovermode": "closest",
          "mapbox": {
           "style": "light"
          },
          "paper_bgcolor": "white",
          "plot_bgcolor": "#E5ECF6",
          "polar": {
           "angularaxis": {
            "gridcolor": "white",
            "linecolor": "white",
            "ticks": ""
           },
           "bgcolor": "#E5ECF6",
           "radialaxis": {
            "gridcolor": "white",
            "linecolor": "white",
            "ticks": ""
           }
          },
          "scene": {
           "xaxis": {
            "backgroundcolor": "#E5ECF6",
            "gridcolor": "white",
            "gridwidth": 2,
            "linecolor": "white",
            "showbackground": true,
            "ticks": "",
            "zerolinecolor": "white"
           },
           "yaxis": {
            "backgroundcolor": "#E5ECF6",
            "gridcolor": "white",
            "gridwidth": 2,
            "linecolor": "white",
            "showbackground": true,
            "ticks": "",
            "zerolinecolor": "white"
           },
           "zaxis": {
            "backgroundcolor": "#E5ECF6",
            "gridcolor": "white",
            "gridwidth": 2,
            "linecolor": "white",
            "showbackground": true,
            "ticks": "",
            "zerolinecolor": "white"
           }
          },
          "shapedefaults": {
           "line": {
            "color": "#2a3f5f"
           }
          },
          "ternary": {
           "aaxis": {
            "gridcolor": "white",
            "linecolor": "white",
            "ticks": ""
           },
           "baxis": {
            "gridcolor": "white",
            "linecolor": "white",
            "ticks": ""
           },
           "bgcolor": "#E5ECF6",
           "caxis": {
            "gridcolor": "white",
            "linecolor": "white",
            "ticks": ""
           }
          },
          "title": {
           "x": 0.05
          },
          "xaxis": {
           "automargin": true,
           "gridcolor": "white",
           "linecolor": "white",
           "ticks": "",
           "title": {
            "standoff": 15
           },
           "zerolinecolor": "white",
           "zerolinewidth": 2
          },
          "yaxis": {
           "automargin": true,
           "gridcolor": "white",
           "linecolor": "white",
           "ticks": "",
           "title": {
            "standoff": 15
           },
           "zerolinecolor": "white",
           "zerolinewidth": 2
          }
         }
        },
        "title": {
         "text": "♟️ <b>Top 10 Ouvertures Noirs</b> (par Winrate)"
        },
        "transition": {
         "duration": 500,
         "easing": "cubic-in-out"
        },
        "updatemenus": [
         {
          "buttons": [
           {
            "args": [
             {
              "visible": [
               true,
               false
              ]
             },
             {
              "title": "♟️ <b>Top 10 Ouvertures Noirs</b> (par Winrate)"
             }
            ],
            "label": "Winrate",
            "method": "update"
           },
           {
            "args": [
             {
              "visible": [
               false,
               true
              ]
             },
             {
              "title": "♟️ <b>Top 10 Ouvertures Noirs</b> (par Nombre de parties)"
             }
            ],
            "label": "Nombre de parties",
            "method": "update"
           }
          ],
          "direction": "right",
          "type": "buttons",
          "x": 0.57,
          "y": 1.15
         }
        ],
        "xaxis": {
         "tickangle": -45,
         "title": {
          "text": "Ouverture"
         }
        },
        "yaxis": {
         "title": {
          "text": "Winrate / Nombre de parties"
         }
        }
       }
      }
     },
     "metadata": {},
     "output_type": "display_data"
    }
   ],
   "source": [
    "import pandas as pd\n",
    "import plotly.graph_objects as go\n",
    "from plotly.subplots import make_subplots\n",
    "from datetime import datetime\n",
    "import os\n",
    "\n",
    "# Charger les données\n",
    "df = pd.read_parquet(\"data/processed/games_raw.parquet\")\n",
    "\n",
    "# Filtrage des ouvertures inutiles\n",
    "df = df[df[\"main_opening\"].notna() &\n",
    "        (df[\"main_opening\"] != \"?\") &\n",
    "        (df[\"main_opening\"] != \"King's Pawn\") &\n",
    "        (df[\"main_opening\"] != \"Queen's Pawn\")]\n",
    "\n",
    "# Blancs\n",
    "white_openings = df.groupby(\"main_opening\").agg(\n",
    "    games_white=(\"white_score\", \"count\"),\n",
    "    winrate_white=(\"white_score\", \"mean\")\n",
    ").reset_index()\n",
    "white_openings = white_openings[white_openings[\"games_white\"] >= 30]\n",
    "top_white_winrate = white_openings.sort_values(\"winrate_white\", ascending=False).head(10)\n",
    "top_white_games = white_openings.sort_values(\"games_white\", ascending=False).head(10)\n",
    "\n",
    "# Noirs\n",
    "black_openings = df.groupby(\"main_opening\").agg(\n",
    "    games_black=(\"black_score\", \"count\"),\n",
    "    winrate_black=(\"black_score\", \"mean\")\n",
    ").reset_index()\n",
    "black_openings = black_openings[black_openings[\"games_black\"] >= 30]\n",
    "top_black_winrate = black_openings.sort_values(\"winrate_black\", ascending=False).head(10)\n",
    "top_black_games = black_openings.sort_values(\"games_black\", ascending=False).head(10)\n",
    "\n",
    "# ----------- GRAPHIQUE BLANCS ----------- #\n",
    "fig_white = go.Figure()\n",
    "\n",
    "# Trace pour tri par Winrate\n",
    "fig_white.add_trace(go.Bar(\n",
    "    x=top_white_winrate[\"main_opening\"],\n",
    "    y=top_white_winrate[\"winrate_white\"],\n",
    "    customdata=top_white_winrate[[\"games_white\"]],\n",
    "    marker=dict(\n",
    "        color=top_white_winrate[\"winrate_white\"],\n",
    "        colorscale=[\"#489fde\", \"#1f68ab\", \"#154d8c\", \"#042749\", \"#001029\"],\n",
    "        line=dict(color='black', width=1.5)\n",
    "    ),\n",
    "    text=top_white_winrate[\"winrate_white\"].apply(lambda x: f\"{x:.2%}\"),\n",
    "    textposition=\"outside\",\n",
    "    name=\"Trié par Winrate\",\n",
    "    hovertemplate=\"<b>%{x}</b><br>Winrate: %{y:.2%}<br>Parties: %{customdata[0]}\"\n",
    "))\n",
    "\n",
    "# Trace pour tri par Nombre de parties\n",
    "fig_white.add_trace(go.Bar(\n",
    "    x=top_white_games[\"main_opening\"],\n",
    "    y=top_white_games[\"games_white\"],\n",
    "    marker=dict(\n",
    "        color=top_white_games[\"games_white\"],\n",
    "        colorscale=[\"#cce5ff\", \"#3399ff\", \"#0055cc\", \"#003d99\", \"#001f4d\"],\n",
    "        line=dict(color='black', width=1.5)\n",
    "    ),\n",
    "    text=top_white_games[\"games_white\"],\n",
    "    textposition=\"outside\",\n",
    "    name=\"Trié par Nombre de parties\",\n",
    "    hovertemplate=\"<b>%{x}</b><br>Parties: %{y}\"\n",
    "))\n",
    "\n",
    "# Layout Blancs\n",
    "fig_white.update_layout(\n",
    "    updatemenus=[dict(\n",
    "        type=\"buttons\",\n",
    "        direction=\"right\",\n",
    "        x=0.57, y=1.15,\n",
    "        buttons=list([\n",
    "            dict(label=\"Winrate\",\n",
    "                 method=\"update\",\n",
    "                 args=[{\"visible\": [True, False]},\n",
    "                       {\"title\": \"♙ <b>Top 10 Ouvertures Blancs</b> (par Winrate)\"}]),\n",
    "            dict(label=\"Nombre de parties\",\n",
    "                 method=\"update\",\n",
    "                 args=[{\"visible\": [False, True]},\n",
    "                       {\"title\": \"♙ <b>Top 10 Ouvertures Blancs</b> (par Nombre de parties)\"}])\n",
    "        ])\n",
    "    )],\n",
    "    title=\"♙ <b>Top 10 Ouvertures Blancs</b> (par Winrate)\",\n",
    "    xaxis_title=\"Ouverture\",\n",
    "    yaxis_title=\"Winrate / Nombre de parties\",\n",
    "    xaxis_tickangle=-45,\n",
    "    transition={'duration': 500, 'easing': 'cubic-in-out'},\n",
    "    hoverlabel=dict(bgcolor=\"white\", font_size=14, font_family=\"Rockwell\")\n",
    ")\n",
    "\n",
    "# Annotation meilleure ouverture\n",
    "best_white = top_white_winrate.iloc[0]\n",
    "fig_white.add_annotation(\n",
    "    x=best_white[\"main_opening\"],\n",
    "    y=best_white[\"winrate_white\"],\n",
    "    showarrow=True,\n",
    "    arrowhead=2,\n",
    "    ax=0,\n",
    "    ay=-40\n",
    ")\n",
    "\n",
    "# ----------- GRAPHIQUE NOIRS ----------- #\n",
    "fig_black = go.Figure()\n",
    "\n",
    "fig_black.add_trace(go.Bar(\n",
    "    x=top_black_winrate[\"main_opening\"],\n",
    "    y=top_black_winrate[\"winrate_black\"],\n",
    "    customdata=top_black_winrate[[\"games_black\"]],\n",
    "    marker=dict(\n",
    "        color=top_black_winrate[\"winrate_black\"],\n",
    "        colorscale=[\"#e85151\", \"#C22E2E\", \"#a30e0e\", \"#720000\", \"#4d0a0a\"],\n",
    "        line=dict(color='black', width=1.5)\n",
    "    ),\n",
    "    text=top_black_winrate[\"winrate_black\"].apply(lambda x: f\"{x:.2%}\"),\n",
    "    textposition=\"outside\",\n",
    "    name=\"Trié par Winrate\",\n",
    "    hovertemplate=\"<b>%{x}</b><br>Winrate: %{y:.2%}<br>Parties: %{customdata[0]}\"\n",
    "))\n",
    "\n",
    "fig_black.add_trace(go.Bar(\n",
    "    x=top_black_games[\"main_opening\"],\n",
    "    y=top_black_games[\"games_black\"],\n",
    "    marker=dict(\n",
    "        color=top_black_games[\"games_black\"],\n",
    "        colorscale=[\"#ffd6d6\", \"#ff9999\", \"#cc3333\", \"#800000\", \"#4d0000\"],\n",
    "        line=dict(color='black', width=1.5)\n",
    "    ),\n",
    "    text=top_black_games[\"games_black\"],\n",
    "    textposition=\"outside\",\n",
    "    name=\"Trié par Nombre de parties\",\n",
    "    hovertemplate=\"<b>%{x}</b><br>Parties: %{y}\"\n",
    "))\n",
    "\n",
    "fig_black.update_layout(\n",
    "    updatemenus=[dict(\n",
    "        type=\"buttons\",\n",
    "        direction=\"right\",\n",
    "        x=0.57, y=1.15,\n",
    "        buttons=list([\n",
    "            dict(label=\"Winrate\",\n",
    "                 method=\"update\",\n",
    "                 args=[{\"visible\": [True, False]},\n",
    "                       {\"title\": \"♟️ <b>Top 10 Ouvertures Noirs</b> (par Winrate)\"}]),\n",
    "            dict(label=\"Nombre de parties\",\n",
    "                 method=\"update\",\n",
    "                 args=[{\"visible\": [False, True]},\n",
    "                       {\"title\": \"♟️ <b>Top 10 Ouvertures Noirs</b> (par Nombre de parties)\"}])\n",
    "        ])\n",
    "    )],\n",
    "    title=\"♟️ <b>Top 10 Ouvertures Noirs</b> (par Winrate)\",\n",
    "    xaxis_title=\"Ouverture\",\n",
    "    yaxis_title=\"Winrate / Nombre de parties\",\n",
    "    xaxis_tickangle=-45,\n",
    "    transition={'duration': 500, 'easing': 'cubic-in-out'},\n",
    "    hoverlabel=dict(bgcolor=\"white\", font_size=14, font_family=\"Rockwell\")\n",
    ")\n",
    "\n",
    "# Annotation meilleure ouverture\n",
    "best_black = top_black_winrate.iloc[0]\n",
    "fig_black.add_annotation(\n",
    "    x=best_black[\"main_opening\"],\n",
    "    y=best_black[\"winrate_black\"],\n",
    "    showarrow=True,\n",
    "    arrowhead=2,\n",
    "    ax=0,\n",
    "    ay=-40\n",
    ")\n",
    "\n",
    "# ----------- Sauvegarde HTML ----------- #\n",
    "os.makedirs(\"data/exported\", exist_ok=True)\n",
    "timestamp = datetime.now().strftime('%Y%m%d_%H%M%S')\n",
    "fig_white.write_html(f\"data/exported/top_openings_white_{timestamp}.html\")\n",
    "fig_black.write_html(f\"data/exported/top_openings_black_{timestamp}.html\")\n",
    "\n",
    "# ----------- Affichage ----------- #\n",
    "fig_white.show()\n",
    "fig_black.show()\n"
   ]
  }
 ],
 "metadata": {
  "kernelspec": {
   "display_name": "Python 3",
   "language": "python",
   "name": "python3"
  },
  "language_info": {
   "codemirror_mode": {
    "name": "ipython",
    "version": 3
   },
   "file_extension": ".py",
   "mimetype": "text/x-python",
   "name": "python",
   "nbconvert_exporter": "python",
   "pygments_lexer": "ipython3",
   "version": "3.12.1"
  }
 },
 "nbformat": 4,
 "nbformat_minor": 5
}
